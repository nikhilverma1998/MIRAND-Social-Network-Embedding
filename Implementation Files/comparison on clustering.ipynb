{
 "cells": [
  {
   "cell_type": "code",
   "execution_count": 9,
   "id": "e2392983",
   "metadata": {},
   "outputs": [],
   "source": [
    "import numpy as np\n",
    "import networkx as nx\n",
    "import random\n",
    "from gensim.models import Word2Vec\n",
    "import warnings\n",
    "warnings.filterwarnings('ignore')\n",
    "import pandas as pd\n",
    "from sklearn.manifold import TSNE\n",
    "import matplotlib.pyplot as plt\n",
    "import matplotlib.pyplot as plt\n",
    "\n",
    "from sklearn.manifold import TSNE\n",
    "from sklearn.model_selection import train_test_split\n",
    "from sklearn.linear_model import LogisticRegressionCV\n",
    "from sklearn.metrics import accuracy_score\n",
    "\n",
    "import os\n",
    "import networkx as nx\n",
    "import numpy as np\n",
    "import pandas as pd\n",
    "from sklearn.metrics import f1_score, precision_recall_fscore_support"
   ]
  },
  {
   "cell_type": "markdown",
   "id": "e05e0944",
   "metadata": {},
   "source": [
    "# K means clustering"
   ]
  },
  {
   "cell_type": "code",
   "execution_count": 10,
   "id": "e62cef37",
   "metadata": {},
   "outputs": [
    {
     "name": "stdout",
     "output_type": "stream",
     "text": [
      "Cluster labels:  [1 0 3 ... 5 2 7]\n",
      "Silhouette Score:  0.026603162825401837\n",
      "Davies-Bouldin Index:  5.13444431071102\n"
     ]
    }
   ],
   "source": [
    "import pandas as pd\n",
    "from sklearn.cluster import KMeans\n",
    "from sklearn.preprocessing import LabelEncoder\n",
    "from sklearn.metrics import silhouette_score, davies_bouldin_score\n",
    "\n",
    "\n",
    "# Load the 'cora.content' file\n",
    "cora_content_file = 'D:/MTech/Web and Social computing/Project/My code/cora.content'\n",
    "cora_content = pd.read_csv(cora_content_file, delimiter='\\t', header=None)\n",
    "\n",
    "# Extract the feature vectors from the Cora content data\n",
    "X = cora_content.iloc[:, 2:].values\n",
    "\n",
    "# Perform label encoding on the non-numeric feature columns\n",
    "label_encoder = LabelEncoder()\n",
    "for i in range(2, X.shape[1]):\n",
    "    if not X[:, i].dtype == 'float64':  # Check if the column contains non-numeric data\n",
    "        X[:, i] = label_encoder.fit_transform(X[:, i])\n",
    "\n",
    "# Perform clustering with KMeans\n",
    "kmeans = KMeans(n_clusters=8)  # Specify the number of clusters\n",
    "kmeans.fit(X)\n",
    "cluster_labels = kmeans.labels_\n",
    "\n",
    "# The resulting cluster labels can be used for further analysis or visualization\n",
    "print(\"Cluster labels: \", cluster_labels)\n",
    "# Compute Silhouette Score and Davies-Bouldin Index\n",
    "silhouette_avg = silhouette_score(X, cluster_labels)\n",
    "davies_bouldin_index = davies_bouldin_score(X, cluster_labels)\n",
    "\n",
    "print(\"Silhouette Score: \", silhouette_avg)\n",
    "print(\"Davies-Bouldin Index: \", davies_bouldin_index)"
   ]
  },
  {
   "cell_type": "markdown",
   "id": "d72dc58b",
   "metadata": {},
   "source": [
    "# Spectral Clustering"
   ]
  },
  {
   "cell_type": "code",
   "execution_count": 11,
   "id": "9cb922bf",
   "metadata": {},
   "outputs": [
    {
     "name": "stdout",
     "output_type": "stream",
     "text": [
      "Cluster labels:  [1 4 0 ... 5 2 6]\n",
      "Silhouette Score:  0.025426348690490357\n",
      "Davies-Bouldin Index:  5.46826609587025\n"
     ]
    }
   ],
   "source": [
    "import pandas as pd\n",
    "from sklearn.cluster import SpectralClustering\n",
    "from sklearn.preprocessing import LabelEncoder\n",
    "from sklearn.metrics import silhouette_score, davies_bouldin_score\n",
    "\n",
    "\n",
    "# Load the 'cora.content' file\n",
    "cora_content_file = 'D:/MTech/Web and Social computing/Project/My code/cora.content'\n",
    "cora_content = pd.read_csv(cora_content_file, delimiter='\\t', header=None)\n",
    "\n",
    "# Extract the feature vectors from the Cora content data\n",
    "X = cora_content.iloc[:, 2:].values\n",
    "\n",
    "# Perform label encoding on the non-numeric feature columns\n",
    "label_encoder = LabelEncoder()\n",
    "for i in range(2, X.shape[1]):\n",
    "    if not X[:, i].dtype == 'float64':  # Check if the column contains non-numeric data\n",
    "        X[:, i] = label_encoder.fit_transform(X[:, i])\n",
    "\n",
    "# Perform clustering with KMeans\n",
    "spectral_clustering = SpectralClustering(n_clusters=7, affinity='nearest_neighbors', n_neighbors=10)\n",
    "spectral_clustering.fit(X)\n",
    "cluster_labels = spectral_clustering.labels_\n",
    "\n",
    "# The resulting cluster labels can be used for further analysis or visualization\n",
    "print(\"Cluster labels: \", cluster_labels)\n",
    "# Compute Silhouette Score and Davies-Bouldin Index\n",
    "silhouette_avg = silhouette_score(X, cluster_labels)\n",
    "davies_bouldin_index = davies_bouldin_score(X, cluster_labels)\n",
    "\n",
    "print(\"Silhouette Score: \", silhouette_avg)\n",
    "print(\"Davies-Bouldin Index: \", davies_bouldin_index)"
   ]
  }
 ],
 "metadata": {
  "kernelspec": {
   "display_name": "Python 3 (ipykernel)",
   "language": "python",
   "name": "python3"
  },
  "language_info": {
   "codemirror_mode": {
    "name": "ipython",
    "version": 3
   },
   "file_extension": ".py",
   "mimetype": "text/x-python",
   "name": "python",
   "nbconvert_exporter": "python",
   "pygments_lexer": "ipython3",
   "version": "3.9.13"
  }
 },
 "nbformat": 4,
 "nbformat_minor": 5
}
